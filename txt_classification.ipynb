{
 "cells": [
  {
   "cell_type": "code",
   "execution_count": 2,
   "metadata": {},
   "outputs": [
    {
     "data": {
      "text/html": [
       "<div>\n",
       "<style scoped>\n",
       "    .dataframe tbody tr th:only-of-type {\n",
       "        vertical-align: middle;\n",
       "    }\n",
       "\n",
       "    .dataframe tbody tr th {\n",
       "        vertical-align: top;\n",
       "    }\n",
       "\n",
       "    .dataframe thead th {\n",
       "        text-align: right;\n",
       "    }\n",
       "</style>\n",
       "<table border=\"1\" class=\"dataframe\">\n",
       "  <thead>\n",
       "    <tr style=\"text-align: right;\">\n",
       "      <th></th>\n",
       "      <th>Text</th>\n",
       "      <th>target</th>\n",
       "    </tr>\n",
       "  </thead>\n",
       "  <tbody>\n",
       "    <tr>\n",
       "      <th>0</th>\n",
       "      <td>g i wasz online me enlighten me soome more i w...</td>\n",
       "      <td>pos</td>\n",
       "    </tr>\n",
       "    <tr>\n",
       "      <th>1</th>\n",
       "      <td>g hear this the last</td>\n",
       "      <td>neg</td>\n",
       "    </tr>\n",
       "    <tr>\n",
       "      <th>2</th>\n",
       "      <td>g judg on social media as induma uva zimbabweg...</td>\n",
       "      <td>pos</td>\n",
       "    </tr>\n",
       "    <tr>\n",
       "      <th>3</th>\n",
       "      <td>g or king shadaya talking touct voices for tom...</td>\n",
       "      <td>pos</td>\n",
       "    </tr>\n",
       "    <tr>\n",
       "      <th>4</th>\n",
       "      <td>g t in most cases you will and the community o...</td>\n",
       "      <td>neg</td>\n",
       "    </tr>\n",
       "    <tr>\n",
       "      <th>...</th>\n",
       "      <td>...</td>\n",
       "      <td>...</td>\n",
       "    </tr>\n",
       "    <tr>\n",
       "      <th>7615</th>\n",
       "      <td>g what you win do youre going to fight for the...</td>\n",
       "      <td>neg</td>\n",
       "    </tr>\n",
       "    <tr>\n",
       "      <th>7616</th>\n",
       "      <td>g off these children</td>\n",
       "      <td>neu</td>\n",
       "    </tr>\n",
       "    <tr>\n",
       "      <th>7617</th>\n",
       "      <td>no cover up praase bind people please down by ...</td>\n",
       "      <td>neg</td>\n",
       "    </tr>\n",
       "    <tr>\n",
       "      <th>7618</th>\n",
       "      <td>g no mashop closed people came alone uninto yo...</td>\n",
       "      <td>neg</td>\n",
       "    </tr>\n",
       "    <tr>\n",
       "      <th>7619</th>\n",
       "      <td>g affy chosen hadca mdca led bigtory brintoy r...</td>\n",
       "      <td>neu</td>\n",
       "    </tr>\n",
       "  </tbody>\n",
       "</table>\n",
       "<p>7620 rows × 2 columns</p>\n",
       "</div>"
      ],
      "text/plain": [
       "                                                   Text target\n",
       "0     g i wasz online me enlighten me soome more i w...    pos\n",
       "1                                  g hear this the last    neg\n",
       "2     g judg on social media as induma uva zimbabweg...    pos\n",
       "3     g or king shadaya talking touct voices for tom...    pos\n",
       "4     g t in most cases you will and the community o...    neg\n",
       "...                                                 ...    ...\n",
       "7615  g what you win do youre going to fight for the...    neg\n",
       "7616                               g off these children    neu\n",
       "7617  no cover up praase bind people please down by ...    neg\n",
       "7618  g no mashop closed people came alone uninto yo...    neg\n",
       "7619  g affy chosen hadca mdca led bigtory brintoy r...    neu\n",
       "\n",
       "[7620 rows x 2 columns]"
      ]
     },
     "execution_count": 2,
     "metadata": {},
     "output_type": "execute_result"
    }
   ],
   "source": [
    "# load data\n",
    "import pandas as pd\n",
    "\n",
    "df = pd.read_csv(\"./data/clean_text_cl3.csv\")\n",
    "df"
   ]
  },
  {
   "cell_type": "code",
   "execution_count": 11,
   "metadata": {},
   "outputs": [
    {
     "data": {
      "text/plain": [
       "[{'text': 'g i wasz online me enlighten me soome more i wasto online from the august to saturday show me whatt youre talking about',\n",
       "  'label': 1},\n",
       " {'text': 'g hear this the last', 'label': 2},\n",
       " {'text': 'g judg on social media as induma uva zimbabwegoutou awou',\n",
       "  'label': 1},\n",
       " {'text': 'g or king shadaya talking touct voices for tomorrow', 'label': 1}]"
      ]
     },
     "execution_count": 11,
     "metadata": {},
     "output_type": "execute_result"
    }
   ],
   "source": [
    "def format_data(label):\n",
    "    if label.lower() == 'pos': return 1\n",
    "    elif label.lower() == 'neg': return 2\n",
    "    elif label.lower() == 'neu': return 0\n",
    "    \n",
    "data = [ {\"text\":row[0], \"label\": format_data(row[1]) } for row in df.values ]\n",
    "data[ : 4]"
   ]
  },
  {
   "cell_type": "code",
   "execution_count": 15,
   "metadata": {},
   "outputs": [
    {
     "name": "stderr",
     "output_type": "stream",
     "text": [
      "Downloading: 100%|██████████| 28.0/28.0 [00:00<00:00, 11.9kB/s]\n",
      "Downloading: 100%|██████████| 483/483 [00:00<00:00, 174kB/s]\n",
      "Downloading: 100%|██████████| 232k/232k [00:03<00:00, 60.9kB/s] \n",
      "Downloading: 100%|██████████| 466k/466k [00:03<00:00, 121kB/s]  \n"
     ]
    },
    {
     "data": {
      "text/plain": [
       "PreTrainedTokenizerFast(name_or_path='distilbert-base-uncased', vocab_size=30522, model_max_len=512, is_fast=True, padding_side='right', truncation_side='right', special_tokens={'unk_token': '[UNK]', 'sep_token': '[SEP]', 'pad_token': '[PAD]', 'cls_token': '[CLS]', 'mask_token': '[MASK]'})"
      ]
     },
     "execution_count": 15,
     "metadata": {},
     "output_type": "execute_result"
    }
   ],
   "source": [
    "from transformers import AutoTokenizer\n",
    "tokenizer = AutoTokenizer.from_pretrained(\"distilbert-base-uncased\")\n",
    "tokenizer"
   ]
  }
 ],
 "metadata": {
  "kernelspec": {
   "display_name": "envs",
   "language": "python",
   "name": "python3"
  },
  "language_info": {
   "codemirror_mode": {
    "name": "ipython",
    "version": 3
   },
   "file_extension": ".py",
   "mimetype": "text/x-python",
   "name": "python",
   "nbconvert_exporter": "python",
   "pygments_lexer": "ipython3",
   "version": "3.10.7 (v3.10.7:6cc6b13308, Sep  5 2022, 14:02:52) [Clang 13.0.0 (clang-1300.0.29.30)]"
  },
  "orig_nbformat": 4,
  "vscode": {
   "interpreter": {
    "hash": "6b16d1a6559efeda66307266d482d01ef10bc024de7015cc43e9f26f0fe94454"
   }
  }
 },
 "nbformat": 4,
 "nbformat_minor": 2
}
