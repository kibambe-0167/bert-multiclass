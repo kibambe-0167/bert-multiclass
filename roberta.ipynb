{
  "cells": [
    {
      "cell_type": "code",
      "execution_count": 1,
      "metadata": {
        "id": "R6hjla7U36Cp"
      },
      "outputs": [
        {
          "name": "stderr",
          "output_type": "stream",
          "text": [
            "/Users/aapoh/codes/ghp/bert-multiclass/envs/lib/python3.10/site-packages/tqdm/auto.py:22: TqdmWarning: IProgress not found. Please update jupyter and ipywidgets. See https://ipywidgets.readthedocs.io/en/stable/user_install.html\n",
            "  from .autonotebook import tqdm as notebook_tqdm\n"
          ]
        }
      ],
      "source": [
        "# install torch \n",
        "# !pip install \"torch == 1.10.2\"# load base package for the tasks from pytorchimport torch\n",
        "# !pip install torch\n",
        "import torch\n",
        "from torch.utils.data import TensorDataset, DataLoader, RandomSampler, SequentialSampler"
      ]
    },
    {
      "cell_type": "code",
      "execution_count": 2,
      "metadata": {
        "id": "4v-bax09Kro4"
      },
      "outputs": [
        {
          "name": "stdout",
          "output_type": "stream",
          "text": [
            "No GPU available, using the CPU instead.\n"
          ]
        }
      ],
      "source": [
        "# tell pytorch to run this model on GPU\n",
        "# model.cuda()\n",
        "import torch # check if we have cuda installed\n",
        "if torch.cuda.is_available():    # to use GPU\n",
        "    device = torch.device(\"cuda\")\n",
        "    print('There are %d GPU(s) available.' % torch.cuda.device_count())\n",
        "    print('GPU is:', torch.cuda.get_device_name(0))\n",
        "else:\n",
        "    print('No GPU available, using the CPU instead.')\n",
        "    device = torch.device(\"cpu\")\n",
        "    "
      ]
    },
    {
      "cell_type": "code",
      "execution_count": 3,
      "metadata": {
        "colab": {
          "base_uri": "https://localhost:8080/"
        },
        "id": "E2UZ79O-1K5s",
        "outputId": "ccce5e3e-c856-4726-e4f9-52cea1a026b9"
      },
      "outputs": [],
      "source": [
        "# from google.colab import drive\n",
        "# drive.mount(\"/content/drive\")"
      ]
    },
    {
      "cell_type": "code",
      "execution_count": 4,
      "metadata": {
        "colab": {
          "base_uri": "https://localhost:8080/",
          "height": 206
        },
        "id": "nyFdIXdo1mWb",
        "outputId": "f4f399ad-e824-4519-dbf7-6ba71a6492a3"
      },
      "outputs": [
        {
          "data": {
            "text/html": [
              "<div>\n",
              "<style scoped>\n",
              "    .dataframe tbody tr th:only-of-type {\n",
              "        vertical-align: middle;\n",
              "    }\n",
              "\n",
              "    .dataframe tbody tr th {\n",
              "        vertical-align: top;\n",
              "    }\n",
              "\n",
              "    .dataframe thead th {\n",
              "        text-align: right;\n",
              "    }\n",
              "</style>\n",
              "<table border=\"1\" class=\"dataframe\">\n",
              "  <thead>\n",
              "    <tr style=\"text-align: right;\">\n",
              "      <th></th>\n",
              "      <th>SN(Original Shona Tweet)</th>\n",
              "      <th>finalLabel5Classes</th>\n",
              "    </tr>\n",
              "  </thead>\n",
              "  <tbody>\n",
              "    <tr>\n",
              "      <th>0</th>\n",
              "      <td>@GombaGuru @__vigie 😂😂 ah mudhara inzwaiwo tsi...</td>\n",
              "      <td>VNEG</td>\n",
              "    </tr>\n",
              "    <tr>\n",
              "      <th>1</th>\n",
              "      <td>@ChinyandeGeorge @ngadziore @nancynjenge @tapc...</td>\n",
              "      <td>NEU</td>\n",
              "    </tr>\n",
              "    <tr>\n",
              "      <th>2</th>\n",
              "      <td>Munenge muchiseka vanhu vari single imi muchii...</td>\n",
              "      <td>NEG</td>\n",
              "    </tr>\n",
              "    <tr>\n",
              "      <th>3</th>\n",
              "      <td>@Sharonrose918 @habeeb_zw uyu oita sei</td>\n",
              "      <td>NEU</td>\n",
              "    </tr>\n",
              "    <tr>\n",
              "      <th>4</th>\n",
              "      <td>@baba_nyenyedzi Am honest and practical questi...</td>\n",
              "      <td>VPOS</td>\n",
              "    </tr>\n",
              "  </tbody>\n",
              "</table>\n",
              "</div>"
            ],
            "text/plain": [
              "                            SN(Original Shona Tweet) finalLabel5Classes\n",
              "0  @GombaGuru @__vigie 😂😂 ah mudhara inzwaiwo tsi...               VNEG\n",
              "1  @ChinyandeGeorge @ngadziore @nancynjenge @tapc...                NEU\n",
              "2  Munenge muchiseka vanhu vari single imi muchii...                NEG\n",
              "3             @Sharonrose918 @habeeb_zw uyu oita sei                NEU\n",
              "4  @baba_nyenyedzi Am honest and practical questi...               VPOS"
            ]
          },
          "execution_count": 4,
          "metadata": {},
          "output_type": "execute_result"
        }
      ],
      "source": [
        "# load data\n",
        "import pandas as pd\n",
        "df = pd.read_csv(\"./traindata1.1.csv\",engine=\"python\")\n",
        "df.drop(axis=1, inplace=True, columns=['UserID','Date/Time'] )\n",
        "df.drop_duplicates(inplace=True)\n",
        "# feature column and target\n",
        "# SN(Original Shona Tweet) | finalLabel5Classes\n",
        "df[['SN(Original Shona Tweet)','finalLabel5Classes']].head(5)\n",
        "# df.head(5)"
      ]
    },
    {
      "cell_type": "code",
      "execution_count": 5,
      "metadata": {
        "colab": {
          "base_uri": "https://localhost:8080/",
          "height": 531
        },
        "id": "K5JPjdnc3Lum",
        "outputId": "c1c29ee9-e809-481a-d1bb-6eae5300c578"
      },
      "outputs": [
        {
          "data": {
            "text/html": [
              "<div>\n",
              "<style scoped>\n",
              "    .dataframe tbody tr th:only-of-type {\n",
              "        vertical-align: middle;\n",
              "    }\n",
              "\n",
              "    .dataframe tbody tr th {\n",
              "        vertical-align: top;\n",
              "    }\n",
              "\n",
              "    .dataframe thead th {\n",
              "        text-align: right;\n",
              "    }\n",
              "</style>\n",
              "<table border=\"1\" class=\"dataframe\">\n",
              "  <thead>\n",
              "    <tr style=\"text-align: right;\">\n",
              "      <th></th>\n",
              "      <th>topic</th>\n",
              "      <th>SearchTerm</th>\n",
              "      <th>emoticonBased</th>\n",
              "      <th>lexiconBased</th>\n",
              "      <th>Annotation 1</th>\n",
              "      <th>Annotation 2</th>\n",
              "      <th>Annotation 3</th>\n",
              "      <th>finalLabel5Classes</th>\n",
              "      <th>finalLabel3Classes</th>\n",
              "      <th>SN(Original Shona Tweet)</th>\n",
              "      <th>ENGoogleTranslate</th>\n",
              "      <th>Text</th>\n",
              "    </tr>\n",
              "  </thead>\n",
              "  <tbody>\n",
              "    <tr>\n",
              "      <th>0</th>\n",
              "      <td>Education</td>\n",
              "      <td>Vana</td>\n",
              "      <td>POS</td>\n",
              "      <td>NEG</td>\n",
              "      <td>VNEG</td>\n",
              "      <td>VNEG</td>\n",
              "      <td>NEU</td>\n",
              "      <td>VNEG</td>\n",
              "      <td>NEG</td>\n",
              "      <td>@GombaGuru @__vigie 😂😂 ah mudhara inzwaiwo tsi...</td>\n",
              "      <td>'g oh mammal feel sorry for the kids wod out w...</td>\n",
              "      <td>gombaguru vigie ah mudhara inzwaiwo tsitsi van...</td>\n",
              "    </tr>\n",
              "    <tr>\n",
              "      <th>1</th>\n",
              "      <td>Agriculture</td>\n",
              "      <td>kudya</td>\n",
              "      <td>UNK</td>\n",
              "      <td>UNK</td>\n",
              "      <td>NEU</td>\n",
              "      <td>NEU</td>\n",
              "      <td>VPOS</td>\n",
              "      <td>NEU</td>\n",
              "      <td>NEU</td>\n",
              "      <td>@ChinyandeGeorge @ngadziore @nancynjenge @tapc...</td>\n",
              "      <td>'my message is a response to your demand that ...</td>\n",
              "      <td>chinyandegeorge ngadziore nancynjenge boriscde...</td>\n",
              "    </tr>\n",
              "    <tr>\n",
              "      <th>2</th>\n",
              "      <td>Sanitation</td>\n",
              "      <td>Vanhu</td>\n",
              "      <td>UNK</td>\n",
              "      <td>POS</td>\n",
              "      <td>NEG</td>\n",
              "      <td>NEU</td>\n",
              "      <td>NEG</td>\n",
              "      <td>NEG</td>\n",
              "      <td>NEG</td>\n",
              "      <td>Munenge muchiseka vanhu vari single imi muchii...</td>\n",
              "      <td>'you are making fun of people who are single y...</td>\n",
              "      <td>munenge muchiseka vanhu vari single imi muchii...</td>\n",
              "    </tr>\n",
              "    <tr>\n",
              "      <th>3</th>\n",
              "      <td>Finance</td>\n",
              "      <td>uyu</td>\n",
              "      <td>UNK</td>\n",
              "      <td>UNK</td>\n",
              "      <td>NEU</td>\n",
              "      <td>NEU</td>\n",
              "      <td>VNEG</td>\n",
              "      <td>NEU</td>\n",
              "      <td>NEU</td>\n",
              "      <td>@Sharonrose918 @habeeb_zw uyu oita sei</td>\n",
              "      <td>'g is how to do'</td>\n",
              "      <td>habeebzw uyu oita sei</td>\n",
              "    </tr>\n",
              "    <tr>\n",
              "      <th>4</th>\n",
              "      <td>Home_Affairs</td>\n",
              "      <td>Baba</td>\n",
              "      <td>POS</td>\n",
              "      <td>POS</td>\n",
              "      <td>NEU</td>\n",
              "      <td>VPOS</td>\n",
              "      <td>VPOS</td>\n",
              "      <td>VPOS</td>\n",
              "      <td>POS</td>\n",
              "      <td>@baba_nyenyedzi Am honest and practical questi...</td>\n",
              "      <td>'g am honest and prectical quetical quems perm...</td>\n",
              "      <td>babanyenyedzi am honest and practical question...</td>\n",
              "    </tr>\n",
              "  </tbody>\n",
              "</table>\n",
              "</div>"
            ],
            "text/plain": [
              "          topic SearchTerm emoticonBased lexiconBased Annotation 1  \\\n",
              "0     Education       Vana           POS          NEG         VNEG   \n",
              "1   Agriculture      kudya           UNK          UNK          NEU   \n",
              "2   Sanitation       Vanhu           UNK          POS          NEG   \n",
              "3       Finance        uyu           UNK          UNK          NEU   \n",
              "4  Home_Affairs       Baba           POS          POS          NEU   \n",
              "\n",
              "  Annotation 2 Annotation 3 finalLabel5Classes finalLabel3Classes  \\\n",
              "0         VNEG          NEU               VNEG                NEG   \n",
              "1          NEU         VPOS                NEU                NEU   \n",
              "2          NEU          NEG                NEG                NEG   \n",
              "3          NEU         VNEG                NEU                NEU   \n",
              "4         VPOS         VPOS               VPOS                POS   \n",
              "\n",
              "                            SN(Original Shona Tweet)  \\\n",
              "0  @GombaGuru @__vigie 😂😂 ah mudhara inzwaiwo tsi...   \n",
              "1  @ChinyandeGeorge @ngadziore @nancynjenge @tapc...   \n",
              "2  Munenge muchiseka vanhu vari single imi muchii...   \n",
              "3             @Sharonrose918 @habeeb_zw uyu oita sei   \n",
              "4  @baba_nyenyedzi Am honest and practical questi...   \n",
              "\n",
              "                                   ENGoogleTranslate  \\\n",
              "0  'g oh mammal feel sorry for the kids wod out w...   \n",
              "1  'my message is a response to your demand that ...   \n",
              "2  'you are making fun of people who are single y...   \n",
              "3                                   'g is how to do'   \n",
              "4  'g am honest and prectical quetical quems perm...   \n",
              "\n",
              "                                                Text  \n",
              "0  gombaguru vigie ah mudhara inzwaiwo tsitsi van...  \n",
              "1  chinyandegeorge ngadziore nancynjenge boriscde...  \n",
              "2  munenge muchiseka vanhu vari single imi muchii...  \n",
              "3                              habeebzw uyu oita sei  \n",
              "4  babanyenyedzi am honest and practical question...  "
            ]
          },
          "execution_count": 5,
          "metadata": {},
          "output_type": "execute_result"
        }
      ],
      "source": [
        "# # text processing function \n",
        "\n",
        "import re\n",
        "import string\n",
        "def clean_text(text):\n",
        "    # to lower case\n",
        "    text = text.lower()\n",
        "    # remove links\n",
        "    text = re.sub('https:\\/\\/\\S+', '', text) \n",
        "    # remove punctuation\n",
        "    text = re.sub('[%s]' % re.escape(string.punctuation), '', text) \n",
        "    # remove next line     \n",
        "    text = re.sub(r'[^ \\w\\.]', '', text) \n",
        "    # remove words containing numbers\n",
        "    text = re.sub('\\w*\\d\\w*', '', text)\n",
        "\n",
        "    text = ' '.join( text.split() )\n",
        "    \n",
        "    return text# Create a new column called \"Text\" for collecting clean text\n",
        "df['Text'] = df['SN(Original Shona Tweet)'].apply(lambda x: clean_text(x))\n",
        "df.head(5)"
      ]
    },
    {
      "cell_type": "code",
      "execution_count": 6,
      "metadata": {
        "colab": {
          "base_uri": "https://localhost:8080/"
        },
        "id": "hmLc6cVr03u3",
        "outputId": "4430da35-b554-4123-90bb-da8e79bda503"
      },
      "outputs": [
        {
          "name": "stdout",
          "output_type": "stream",
          "text": [
            "Requirement already satisfied: transformers in ./envs/lib/python3.10/site-packages (4.26.0.dev0)\n",
            "Requirement already satisfied: regex!=2019.12.17 in ./envs/lib/python3.10/site-packages (from transformers) (2022.10.31)\n",
            "Requirement already satisfied: packaging>=20.0 in ./envs/lib/python3.10/site-packages (from transformers) (22.0)\n",
            "Requirement already satisfied: tokenizers!=0.11.3,<0.14,>=0.11.1 in ./envs/lib/python3.10/site-packages (from transformers) (0.13.2)\n",
            "Requirement already satisfied: pyyaml>=5.1 in ./envs/lib/python3.10/site-packages (from transformers) (6.0)\n",
            "Requirement already satisfied: huggingface-hub<1.0,>=0.10.0 in ./envs/lib/python3.10/site-packages (from transformers) (0.11.1)\n",
            "Requirement already satisfied: filelock in ./envs/lib/python3.10/site-packages (from transformers) (3.9.0)\n",
            "Requirement already satisfied: tqdm>=4.27 in ./envs/lib/python3.10/site-packages (from transformers) (4.64.1)\n",
            "Requirement already satisfied: requests in ./envs/lib/python3.10/site-packages (from transformers) (2.28.1)\n",
            "Requirement already satisfied: numpy>=1.17 in ./envs/lib/python3.10/site-packages (from transformers) (1.24.1)\n",
            "Requirement already satisfied: typing-extensions>=3.7.4.3 in ./envs/lib/python3.10/site-packages (from huggingface-hub<1.0,>=0.10.0->transformers) (4.4.0)\n",
            "Requirement already satisfied: charset-normalizer<3,>=2 in ./envs/lib/python3.10/site-packages (from requests->transformers) (2.1.1)\n",
            "Requirement already satisfied: certifi>=2017.4.17 in ./envs/lib/python3.10/site-packages (from requests->transformers) (2022.12.7)\n",
            "Requirement already satisfied: idna<4,>=2.5 in ./envs/lib/python3.10/site-packages (from requests->transformers) (3.4)\n",
            "Requirement already satisfied: urllib3<1.27,>=1.21.1 in ./envs/lib/python3.10/site-packages (from requests->transformers) (1.26.13)\n"
          ]
        }
      ],
      "source": [
        "# install transformers\n",
        "!pip install transformers"
      ]
    },
    {
      "cell_type": "code",
      "execution_count": 7,
      "metadata": {
        "colab": {
          "base_uri": "https://localhost:8080/"
        },
        "id": "rXDt_JhD4J8X",
        "outputId": "418096a2-8223-423f-d531-3ffc07123ea8"
      },
      "outputs": [
        {
          "data": {
            "text/plain": [
              "2"
            ]
          },
          "execution_count": 7,
          "metadata": {},
          "output_type": "execute_result"
        }
      ],
      "source": [
        "# load xml roberta tokens\n",
        "from transformers import AutoTokenizer\n",
        "tokenizer = AutoTokenizer.from_pretrained('xlm-roberta-base')# Add words into token \n",
        "tokenizer.add_tokens(['covid', 'coronavirus'])"
      ]
    },
    {
      "cell_type": "code",
      "execution_count": 8,
      "metadata": {
        "colab": {
          "base_uri": "https://localhost:8080/"
        },
        "id": "NwGX9XOd4bgB",
        "outputId": "5c01cfb7-b577-4fc0-83e3-0ac3b39c152a"
      },
      "outputs": [
        {
          "name": "stdout",
          "output_type": "stream",
          "text": [
            "{'gombaguru': [79355, 11, 35451], 'vigie': [279, 16857], 'ah': [1263], 'mudhara': [842, 119989], 'inzwaiwo': [23, 12781, 14, 3613], 'tsitsi': [74185, 19156], 'vana': [131, 11], 'vatambura': [307, 2537, 119145], 'kunze': [949, 731], 'uku': [7316]}\n"
          ]
        }
      ],
      "source": [
        "# example of tokenizing a sentence.\n",
        "df.Text.values[0]\n",
        "print({x : tokenizer.encode(x, add_special_tokens=False) for x in df.Text.values[0].split()})\n",
        "\n",
        "# tokenizer(df.Text.values[0])['input_ids']"
      ]
    },
    {
      "cell_type": "code",
      "execution_count": 9,
      "metadata": {
        "colab": {
          "base_uri": "https://localhost:8080/",
          "height": 582
        },
        "id": "bORZPp5f5TJY",
        "outputId": "28249a5e-c7d7-4591-e80a-35857a69cfa2"
      },
      "outputs": [
        {
          "name": "stdout",
          "output_type": "stream",
          "text": [
            "max:  147\n",
            "min:  3\n"
          ]
        },
        {
          "data": {
            "text/plain": [
              "(array([   0.,  500., 1000., 1500., 2000., 2500., 3000., 3500., 4000.,\n",
              "        4500.]),\n",
              " [Text(0, 0.0, '0'),\n",
              "  Text(0, 500.0, '500'),\n",
              "  Text(0, 1000.0, '1000'),\n",
              "  Text(0, 1500.0, '1500'),\n",
              "  Text(0, 2000.0, '2000'),\n",
              "  Text(0, 2500.0, '2500'),\n",
              "  Text(0, 3000.0, '3000'),\n",
              "  Text(0, 3500.0, '3500'),\n",
              "  Text(0, 4000.0, '4000'),\n",
              "  Text(0, 4500.0, '4500')])"
            ]
          },
          "execution_count": 9,
          "metadata": {},
          "output_type": "execute_result"
        },
        {
          "data": {
            "image/png": "[encoded data removed]",
            "text/plain": [
              "<Figure size 2000x800 with 1 Axes>"
            ]
          },
          "metadata": {},
          "output_type": "display_data"
        }
      ],
      "source": [
        "# tokenize all sentences and see length of the distribution length of the tokenized sentences.\n",
        "# install matplotlib\n",
        "# !pip install matplotlib # tokenize the text feature \n",
        "tokenized_feature_raw = tokenizer.batch_encode_plus(\n",
        "                            # Sentences to encode\n",
        "                            df.Text.values.tolist(), \n",
        "                            # Add '[CLS]' and '[SEP]'\n",
        "                            add_special_tokens = True      \n",
        "                   )# collect tokenized sentence length \n",
        "token_sentence_length = [len(x) for x in tokenized_feature_raw['input_ids']]\n",
        "print('max: ', max(token_sentence_length))\n",
        "print('min: ', min(token_sentence_length))# plot the distribution\n",
        "import matplotlib.pyplot as plt\n",
        "plt.figure(figsize=(20, 8))\n",
        "plt.hist(token_sentence_length, rwidth = 0.9)\n",
        "plt.xlabel('Sequence Length', fontsize = 18)\n",
        "plt.ylabel('# of Samples', fontsize = 18)\n",
        "plt.xticks(fontsize = 14)\n",
        "plt.yticks(fontsize = 14)"
      ]
    },
    {
      "cell_type": "code",
      "execution_count": 10,
      "metadata": {
        "id": "GG7UN12x6Drh"
      },
      "outputs": [],
      "source": [
        "# identify features and target\n",
        "features = df.Text.values.tolist()\n",
        "target = df['finalLabel5Classes'].values.tolist()"
      ]
    },
    {
      "cell_type": "code",
      "execution_count": 11,
      "metadata": {
        "id": "cNPtm6ci6PpN"
      },
      "outputs": [],
      "source": [
        "# tokenize features \n",
        "MAX_LEN = 256\n",
        "tokenized_feature = tokenizer.batch_encode_plus(\n",
        "                            # Sentences to encode\n",
        "                            features, \n",
        "                            # Add '[CLS]' and '[SEP]'\n",
        "                            add_special_tokens = True,\n",
        "                            # Add empty tokens if len(text)<MAX_LEN\n",
        "                            padding = 'max_length',\n",
        "                            # Truncate all sentences to max length\n",
        "                            truncation=True,\n",
        "                            # Set the maximum length\n",
        "                            max_length = MAX_LEN, \n",
        "                            # Return attention mask\n",
        "                            return_attention_mask = True,\n",
        "                            # Return pytorch tensors\n",
        "                            return_tensors = 'pt'       \n",
        "                   )\n",
        "# tokenized_feature"
      ]
    },
    {
      "cell_type": "code",
      "execution_count": 12,
      "metadata": {
        "colab": {
          "base_uri": "https://localhost:8080/"
        },
        "id": "nVoyHE6n64nU",
        "outputId": "e6248d9c-4668-4d80-aa5a-c1a0c84f4f5f"
      },
      "outputs": [
        {
          "data": {
            "text/plain": [
              "array([3, 1, 0, ..., 0, 1, 0])"
            ]
          },
          "execution_count": 12,
          "metadata": {},
          "output_type": "execute_result"
        }
      ],
      "source": [
        "# encode the target to numeric using sklearn\n",
        "from sklearn.preprocessing import LabelEncoder\n",
        "le = LabelEncoder()\n",
        "le.fit(target)\n",
        "target_num = le.transform(target)\n",
        "target_num"
      ]
    },
    {
      "cell_type": "code",
      "execution_count": 13,
      "metadata": {
        "id": "ejf66TcI7mOz"
      },
      "outputs": [],
      "source": [
        "# Use 80% for training and 20% for validation\n",
        "from sklearn.model_selection import train_test_split\n",
        "\n",
        "train_inputs, validation_inputs, train_labels, validation_labels, train_masks, validation_masks = train_test_split(\n",
        "    tokenized_feature['input_ids'], target_num, tokenized_feature['attention_mask'],\n",
        "    random_state=2018, test_size=0.2, stratify=target)"
      ]
    },
    {
      "cell_type": "code",
      "execution_count": 14,
      "metadata": {
        "id": "5Y15FwOY8Ep6"
      },
      "outputs": [],
      "source": [
        "# load training and validation data, into torch dataloader\n",
        "# define batch_size\n",
        "batch_size = 16 # Create the DataLoader for our training set\n",
        "train_data = TensorDataset(train_inputs, train_masks, torch.tensor(train_labels))\n",
        "train_sampler = RandomSampler(train_data)\n",
        "train_dataloader = DataLoader(train_data, sampler=train_sampler, batch_size=batch_size)# Create the DataLoader for our test set\n",
        "validation_data = TensorDataset(validation_inputs, validation_masks, torch.tensor(validation_labels))\n",
        "validation_sampler = SequentialSampler(validation_data)\n",
        "validation_dataloader = DataLoader(validation_data, sampler=validation_sampler, batch_size=batch_size)"
      ]
    },
    {
      "cell_type": "code",
      "execution_count": 15,
      "metadata": {
        "colab": {
          "base_uri": "https://localhost:8080/"
        },
        "id": "vbCbfBuE8unM",
        "outputId": "d46437f4-0bf1-461f-9c8a-428a44e7722e"
      },
      "outputs": [
        {
          "name": "stderr",
          "output_type": "stream",
          "text": [
            "Some weights of the model checkpoint at roberta-base were not used when initializing RobertaForSequenceClassification: ['roberta.pooler.dense.weight', 'lm_head.layer_norm.bias', 'lm_head.decoder.weight', 'lm_head.layer_norm.weight', 'lm_head.dense.weight', 'lm_head.dense.bias', 'lm_head.bias', 'roberta.pooler.dense.bias']\n",
            "- This IS expected if you are initializing RobertaForSequenceClassification from the checkpoint of a model trained on another task or with another architecture (e.g. initializing a BertForSequenceClassification model from a BertForPreTraining model).\n",
            "- This IS NOT expected if you are initializing RobertaForSequenceClassification from the checkpoint of a model that you expect to be exactly identical (initializing a BertForSequenceClassification model from a BertForSequenceClassification model).\n",
            "Some weights of RobertaForSequenceClassification were not initialized from the model checkpoint at roberta-base and are newly initialized: ['classifier.dense.bias', 'classifier.out_proj.bias', 'classifier.dense.weight', 'classifier.out_proj.weight']\n",
            "You should probably TRAIN this model on a down-stream task to be able to use it for predictions and inference.\n"
          ]
        }
      ],
      "source": [
        "# BertForSequenceClassification\n",
        "from transformers import XLMRobertaForSequenceClassification, AdamW, get_linear_schedule_with_warmup, RobertaForSequenceClassification, BertForSequenceClassification\n",
        "\n",
        "model = RobertaForSequenceClassification.from_pretrained(\n",
        "    \"roberta-base\", \n",
        "    # Specify number of classes\n",
        "    num_labels = len(set(target)), \n",
        "    # Whether the model returns attentions weights\n",
        "    output_attentions = False,\n",
        "    # Whether the model returns all hidden-states \n",
        "    output_hidden_states = False,\n",
        "    # state problem type.\n",
        "    problem_type=\"multi_label_classification\",\n",
        ")"
      ]
    },
    {
      "cell_type": "code",
      "execution_count": 16,
      "metadata": {
        "colab": {
          "base_uri": "https://localhost:8080/"
        },
        "id": "atPuQGWJ9RNe",
        "outputId": "c04ceab0-a46f-490a-d4dd-8cb21074f23c"
      },
      "outputs": [
        {
          "data": {
            "text/plain": [
              "Embedding(250004, 768)"
            ]
          },
          "execution_count": 16,
          "metadata": {},
          "output_type": "execute_result"
        }
      ],
      "source": [
        "# Because we add two words [‘covid’, ‘coronavirus’] into the vocabulary, \n",
        "# we will need to resize the token to make sure the model pick it up as whole words.\n",
        "model.resize_token_embeddings(len(tokenizer))"
      ]
    },
    {
      "cell_type": "code",
      "execution_count": 17,
      "metadata": {
        "colab": {
          "base_uri": "https://localhost:8080/"
        },
        "id": "Zp_yfmhI9gPJ",
        "outputId": "a4167560-fba1-4ba9-e138-7304b4b2f5ad"
      },
      "outputs": [
        {
          "name": "stderr",
          "output_type": "stream",
          "text": [
            "/Users/aapoh/codes/ghp/bert-multiclass/envs/lib/python3.10/site-packages/transformers/optimization.py:306: FutureWarning: This implementation of AdamW is deprecated and will be removed in a future version. Use the PyTorch implementation torch.optim.AdamW instead, or set `no_deprecation_warning=True` to disable this warning\n",
            "  warnings.warn(\n"
          ]
        }
      ],
      "source": [
        "# add the optimizer\n",
        "# Optimizer & Learning Rate Scheduler\n",
        "optimizer = AdamW(model.parameters(), lr = 2e-5, eps = 1e-8 )"
      ]
    },
    {
      "cell_type": "code",
      "execution_count": 18,
      "metadata": {
        "id": "_8M-BWWy9quP"
      },
      "outputs": [],
      "source": [
        "# Number of training epochs\n",
        "epochs = 4 # Total number of training steps is number of batches * number of epochs.\n",
        "total_steps = len(train_dataloader) * epochs# Create the learning rate scheduler\n",
        "scheduler = get_linear_schedule_with_warmup(optimizer, num_warmup_steps = 0, num_training_steps = total_steps)"
      ]
    },
    {
      "cell_type": "code",
      "execution_count": 21,
      "metadata": {
        "colab": {
          "base_uri": "https://localhost:8080/"
        },
        "id": "rT1lU3uN95jc",
        "outputId": "27714c2e-5afd-487d-a326-bb3f60cf7a16"
      },
      "outputs": [
        {
          "name": "stdout",
          "output_type": "stream",
          "text": [
            "total steps per epoch:  37.125\n",
            "\n",
            "training on epoch:  0\n"
          ]
        }
      ],
      "source": [
        "# training the model.\n",
        "# Training\n",
        "import time # Store the average loss after each epoch \n",
        "loss_values = []# number of total steps for each epoch\n",
        "print('total steps per epoch: ',  len(train_dataloader) / batch_size)# looping over epochs\n",
        "for epoch_i in range(0, epochs):\n",
        "    \n",
        "    print('\\ntraining on epoch: ', epoch_i)    # set start time \n",
        "    t0 = time.time()\n",
        "    # reset total loss\n",
        "    total_loss = 0\n",
        "    # model in training \n",
        "    model.train()\n",
        "    # loop through batch \n",
        "    for step, batch in enumerate(train_dataloader):\n",
        "        # Progress update every 50 step \n",
        "        if step % 50 == 0 and not step == 0:\n",
        "            print('training on step: ', step)\n",
        "            print('total time used is: {0:.2f} s'.format(time.time() - t0))\n",
        "        # load data from dataloader\n",
        "        b_input_ids = batch[0].to(device)\n",
        "        b_input_mask = batch[1].to(device)\n",
        "        b_labels = batch[2].to(device)\n",
        "        # b_labels = torch.nn.functional.one_hot(batch[2].to(device), num_classes=5)\n",
        "        # b_labels = b_labels.unsqueeze(1)\n",
        "        # clear any previously calculated gradients \n",
        "        model.zero_grad()\n",
        "        # get outputs\n",
        "        outputs = model(b_input_ids,\n",
        "                        token_type_ids=None,\n",
        "                        attention_mask=b_input_mask,\n",
        "                        # labels=b_labels\n",
        "                        )\n",
        "        # get loss\n",
        "        # loss = outputs[0]\n",
        "        # total loss\n",
        "        # total_loss += loss.item()\n",
        "        # clip the norm of the gradients to 1.0.\n",
        "        torch.nn.utils.clip_grad_norm_(model.parameters(), 1.0)\n",
        "        # update optimizer\n",
        "        optimizer.step()\n",
        "        # update learning rate \n",
        "        scheduler.step()    # Calculate the average loss over the training data.\n",
        "    # avg_train_loss = total_loss / len(train_dataloader)    # Store the loss value for plotting the learning curve.\n",
        "    # loss_values.append(avg_train_loss)\n",
        "    \n",
        "    # print(\"average training loss: {0:.2f}\".format(avg_train_loss))"
      ]
    },
    {
      "cell_type": "code",
      "execution_count": null,
      "metadata": {},
      "outputs": [
        {
          "name": "stdout",
          "output_type": "stream",
          "text": [
            "total time used is: 266.17 s\n"
          ]
        }
      ],
      "source": [
        "# Test\n",
        "import numpy as np\n",
        "\n",
        "t0 = time.time()# model in validation mode\n",
        "model.eval()# save prediction\n",
        "predictions,true_labels =[],[]# evaluate data for one epoch\n",
        "for batch in validation_dataloader:\n",
        "    # Add batch to GPU\n",
        "    batch = tuple(t.to(device) for t in batch)    # Unpack the inputs from our dataloader\n",
        "    b_input_ids, b_input_mask, b_labels = batch    # validation\n",
        "    with torch.no_grad():\n",
        "        outputs = model(b_input_ids,\n",
        "                        token_type_ids=None,\n",
        "                        attention_mask=b_input_mask)    # get output\n",
        "                        \n",
        "    logits = outputs[0]\n",
        "    # move logits and labels to CPU\n",
        "    logits = logits.detach().cpu().numpy()\n",
        "    label_ids = b_labels.to('cpu').numpy()\n",
        "    final_prediction = np.argmax(logits, axis=-1).flatten()\n",
        "    predictions.append(final_prediction)\n",
        "    true_labels.append(label_ids)\n",
        "    \n",
        "print('total time used is: {0:.2f} s'.format(time.time() - t0))"
      ]
    },
    {
      "cell_type": "code",
      "execution_count": null,
      "metadata": {},
      "outputs": [],
      "source": [
        "# \n",
        "predictions"
      ]
    },
    {
      "cell_type": "code",
      "execution_count": null,
      "metadata": {},
      "outputs": [
        {
          "data": {
            "text/plain": [
              "array(['VPOS', 'VPOS', 'VPOS', ..., 'VPOS', 'VPOS', 'VPOS'], dtype='<U4')"
            ]
          },
          "execution_count": 22,
          "metadata": {},
          "output_type": "execute_result"
        }
      ],
      "source": [
        "# convert numeric label to string\n",
        "final_prediction_list = le.inverse_transform(np.concatenate(predictions))\n",
        "final_truelabel_list = le.inverse_transform(np.concatenate(true_labels))\n",
        "final_prediction_list"
      ]
    },
    {
      "cell_type": "code",
      "execution_count": null,
      "metadata": {},
      "outputs": [
        {
          "name": "stdout",
          "output_type": "stream",
          "text": [
            "              precision    recall  f1-score   support\n",
            "\n",
            "         NEG       0.00      0.00      0.00       665\n",
            "         NEU       0.00      0.00      0.00       508\n",
            "         POS       0.00      0.00      0.00       496\n",
            "        VNEG       0.00      0.00      0.00       465\n",
            "        VPOS       0.10      1.00      0.18       239\n",
            "\n",
            "    accuracy                           0.10      2373\n",
            "   macro avg       0.02      0.20      0.04      2373\n",
            "weighted avg       0.01      0.10      0.02      2373\n",
            "\n"
          ]
        },
        {
          "name": "stderr",
          "output_type": "stream",
          "text": [
            "/Users/aapoh/codes/ghp/bert-multiclass/envs/lib/python3.10/site-packages/sklearn/metrics/_classification.py:1344: UndefinedMetricWarning: Precision and F-score are ill-defined and being set to 0.0 in labels with no predicted samples. Use `zero_division` parameter to control this behavior.\n",
            "  _warn_prf(average, modifier, msg_start, len(result))\n",
            "/Users/aapoh/codes/ghp/bert-multiclass/envs/lib/python3.10/site-packages/sklearn/metrics/_classification.py:1344: UndefinedMetricWarning: Precision and F-score are ill-defined and being set to 0.0 in labels with no predicted samples. Use `zero_division` parameter to control this behavior.\n",
            "  _warn_prf(average, modifier, msg_start, len(result))\n",
            "/Users/aapoh/codes/ghp/bert-multiclass/envs/lib/python3.10/site-packages/sklearn/metrics/_classification.py:1344: UndefinedMetricWarning: Precision and F-score are ill-defined and being set to 0.0 in labels with no predicted samples. Use `zero_division` parameter to control this behavior.\n",
            "  _warn_prf(average, modifier, msg_start, len(result))\n"
          ]
        }
      ],
      "source": [
        "from sklearn.metrics import confusion_matrix, classification_report\n",
        "cr = classification_report(final_truelabel_list, \n",
        "                           final_prediction_list, \n",
        "                           output_dict=False)\n",
        "print(cr)"
      ]
    },
    {
      "cell_type": "code",
      "execution_count": null,
      "metadata": {},
      "outputs": [
        {
          "data": {
            "text/plain": [
              "Text(95.72222222222221, 0.5, 'Predicted Sentiment Label')"
            ]
          },
          "execution_count": 25,
          "metadata": {},
          "output_type": "execute_result"
        },
        {
          "data": {
            "image/png": "[encoded data removed]",
            "text/plain": [
              "<Figure size 1000x800 with 2 Axes>"
            ]
          },
          "metadata": {},
          "output_type": "display_data"
        }
      ],
      "source": [
        "# install seaborn\n",
        "# !pip install seaborn# \n",
        "# print cm heatmap\n",
        "import seaborn as sns# return class label\n",
        "class_label = np.unique(final_truelabel_list)# get confusion matrix \n",
        "cm = confusion_matrix(final_truelabel_list,\n",
        "                      final_prediction_list)# covert it to dataframe for plotting\n",
        "cm_df = pd.DataFrame(cm, \n",
        "                     index = class_label, \n",
        "                     columns = class_label)# plot it \n",
        "plt.figure(figsize = (10,8))\n",
        "g = sns.heatmap(cm_df, cmap = 'hot_r', annot=True, fmt='g')\n",
        "g.xaxis.set_ticks_position(\"top\")\n",
        "g.tick_params(axis='x', rotation=90)\n",
        "g.set_xlabel(\"True Sentiment Label\")\n",
        "g.set_ylabel(\"Predicted Sentiment Label\")"
      ]
    },
    {
      "cell_type": "code",
      "execution_count": null,
      "metadata": {},
      "outputs": [],
      "source": []
    }
  ],
  "metadata": {
    "colab": {
      "provenance": []
    },
    "kernelspec": {
      "display_name": "envs",
      "language": "python",
      "name": "python3"
    },
    "language_info": {
      "codemirror_mode": {
        "name": "ipython",
        "version": 3
      },
      "file_extension": ".py",
      "mimetype": "text/x-python",
      "name": "python",
      "nbconvert_exporter": "python",
      "pygments_lexer": "ipython3",
      "version": "3.10.7"
    },
    "vscode": {
      "interpreter": {
        "hash": "6b16d1a6559efeda66307266d482d01ef10bc024de7015cc43e9f26f0fe94454"
      }
    }
  },
  "nbformat": 4,
  "nbformat_minor": 0
}
