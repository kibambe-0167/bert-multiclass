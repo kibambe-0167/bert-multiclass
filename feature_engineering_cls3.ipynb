{
  "cells": [
    {
      "cell_type": "code",
      "execution_count": 2,
      "metadata": {
        "colab": {
          "base_uri": "https://localhost:8080/",
          "height": 206
        },
        "id": "nyFdIXdo1mWb",
        "outputId": "f4f399ad-e824-4519-dbf7-6ba71a6492a3"
      },
      "outputs": [
        {
          "data": {
            "text/html": [
              "<div>\n",
              "<style scoped>\n",
              "    .dataframe tbody tr th:only-of-type {\n",
              "        vertical-align: middle;\n",
              "    }\n",
              "\n",
              "    .dataframe tbody tr th {\n",
              "        vertical-align: top;\n",
              "    }\n",
              "\n",
              "    .dataframe thead th {\n",
              "        text-align: right;\n",
              "    }\n",
              "</style>\n",
              "<table border=\"1\" class=\"dataframe\">\n",
              "  <thead>\n",
              "    <tr style=\"text-align: right;\">\n",
              "      <th></th>\n",
              "      <th>ENGoogleTranslate</th>\n",
              "      <th>finalLabel3Classes</th>\n",
              "    </tr>\n",
              "  </thead>\n",
              "  <tbody>\n",
              "    <tr>\n",
              "      <th>0</th>\n",
              "      <td>'g oh mammal feel sorry for the kids wod out w...</td>\n",
              "      <td>NEG</td>\n",
              "    </tr>\n",
              "    <tr>\n",
              "      <th>1</th>\n",
              "      <td>'my message is a response to your demand that ...</td>\n",
              "      <td>NEU</td>\n",
              "    </tr>\n",
              "    <tr>\n",
              "      <th>2</th>\n",
              "      <td>'you are making fun of people who are single y...</td>\n",
              "      <td>NEG</td>\n",
              "    </tr>\n",
              "    <tr>\n",
              "      <th>3</th>\n",
              "      <td>'g is how to do'</td>\n",
              "      <td>NEU</td>\n",
              "    </tr>\n",
              "    <tr>\n",
              "      <th>4</th>\n",
              "      <td>'g am honest and prectical quetical quems perm...</td>\n",
              "      <td>POS</td>\n",
              "    </tr>\n",
              "    <tr>\n",
              "      <th>...</th>\n",
              "      <td>...</td>\n",
              "      <td>...</td>\n",
              "    </tr>\n",
              "    <tr>\n",
              "      <th>12761</th>\n",
              "      <td>\"g adam and eve are original to do something w...</td>\n",
              "      <td>POS</td>\n",
              "    </tr>\n",
              "    <tr>\n",
              "      <th>12762</th>\n",
              "      <td>'g gt gextly as they ate them paid us when the...</td>\n",
              "      <td>NEG</td>\n",
              "    </tr>\n",
              "    <tr>\n",
              "      <th>12763</th>\n",
              "      <td>'g ismagine a man weird on shadaa because ah l...</td>\n",
              "      <td>NEG</td>\n",
              "    </tr>\n",
              "    <tr>\n",
              "      <th>12764</th>\n",
              "      <td>'g iskyra and tend to do so in privacy'</td>\n",
              "      <td>NEU</td>\n",
              "    </tr>\n",
              "    <tr>\n",
              "      <th>12766</th>\n",
              "      <td>\"🟡free the regime in harare must stop the unla...</td>\n",
              "      <td>NEG</td>\n",
              "    </tr>\n",
              "  </tbody>\n",
              "</table>\n",
              "<p>11862 rows × 2 columns</p>\n",
              "</div>"
            ],
            "text/plain": [
              "                                       ENGoogleTranslate finalLabel3Classes\n",
              "0      'g oh mammal feel sorry for the kids wod out w...                NEG\n",
              "1      'my message is a response to your demand that ...                NEU\n",
              "2      'you are making fun of people who are single y...                NEG\n",
              "3                                       'g is how to do'                NEU\n",
              "4      'g am honest and prectical quetical quems perm...                POS\n",
              "...                                                  ...                ...\n",
              "12761  \"g adam and eve are original to do something w...                POS\n",
              "12762  'g gt gextly as they ate them paid us when the...                NEG\n",
              "12763  'g ismagine a man weird on shadaa because ah l...                NEG\n",
              "12764            'g iskyra and tend to do so in privacy'                NEU\n",
              "12766  \"🟡free the regime in harare must stop the unla...                NEG\n",
              "\n",
              "[11862 rows x 2 columns]"
            ]
          },
          "execution_count": 2,
          "metadata": {},
          "output_type": "execute_result"
        }
      ],
      "source": [
        "# load data\n",
        "import pandas as pd\n",
        "df = pd.read_csv(\"./traindata1.1.csv\",engine=\"python\")\n",
        "df.drop(axis=1, inplace=True, columns=['UserID','Date/Time'] )\n",
        "df.drop_duplicates(inplace=True)\n",
        "# feature column and target\n",
        "# ENGoogleTranslate | finalLabel5Classes\n",
        "_target_col = 'finalLabel3Classes'\n",
        "_feature_col = 'ENGoogleTranslate'\n",
        "df[[_feature_col,_target_col]]\n",
        "\n",
        "# df[_target_col].unique()"
      ]
    },
    {
      "cell_type": "code",
      "execution_count": 73,
      "metadata": {
        "colab": {
          "base_uri": "https://localhost:8080/",
          "height": 531
        },
        "id": "K5JPjdnc3Lum",
        "outputId": "c1c29ee9-e809-481a-d1bb-6eae5300c578"
      },
      "outputs": [
        {
          "data": {
            "text/html": [
              "<div>\n",
              "<style scoped>\n",
              "    .dataframe tbody tr th:only-of-type {\n",
              "        vertical-align: middle;\n",
              "    }\n",
              "\n",
              "    .dataframe tbody tr th {\n",
              "        vertical-align: top;\n",
              "    }\n",
              "\n",
              "    .dataframe thead th {\n",
              "        text-align: right;\n",
              "    }\n",
              "</style>\n",
              "<table border=\"1\" class=\"dataframe\">\n",
              "  <thead>\n",
              "    <tr style=\"text-align: right;\">\n",
              "      <th></th>\n",
              "      <th>Text</th>\n",
              "      <th>finalLabel3Classes</th>\n",
              "    </tr>\n",
              "  </thead>\n",
              "  <tbody>\n",
              "    <tr>\n",
              "      <th>0</th>\n",
              "      <td>g oh mammal feel sorry for the kids wod out while</td>\n",
              "      <td>NEG</td>\n",
              "    </tr>\n",
              "    <tr>\n",
              "      <th>1</th>\n",
              "      <td>my message is a response to your demand that w...</td>\n",
              "      <td>NEU</td>\n",
              "    </tr>\n",
              "    <tr>\n",
              "      <th>2</th>\n",
              "      <td>you are making fun of people who are single yo...</td>\n",
              "      <td>NEG</td>\n",
              "    </tr>\n",
              "    <tr>\n",
              "      <th>3</th>\n",
              "      <td>g is how to do</td>\n",
              "      <td>NEU</td>\n",
              "    </tr>\n",
              "    <tr>\n",
              "      <th>4</th>\n",
              "      <td>g am honest and prectical quetical quems perm ...</td>\n",
              "      <td>POS</td>\n",
              "    </tr>\n",
              "    <tr>\n",
              "      <th>...</th>\n",
              "      <td>...</td>\n",
              "      <td>...</td>\n",
              "    </tr>\n",
              "    <tr>\n",
              "      <th>12761</th>\n",
              "      <td>g adam and eve are original to do something wr...</td>\n",
              "      <td>POS</td>\n",
              "    </tr>\n",
              "    <tr>\n",
              "      <th>12762</th>\n",
              "      <td>g gt gextly as they ate them paid us when the ...</td>\n",
              "      <td>NEG</td>\n",
              "    </tr>\n",
              "    <tr>\n",
              "      <th>12763</th>\n",
              "      <td>g ismagine a man weird on shadaa because ah le...</td>\n",
              "      <td>NEG</td>\n",
              "    </tr>\n",
              "    <tr>\n",
              "      <th>12764</th>\n",
              "      <td>g iskyra and tend to do so in privacy</td>\n",
              "      <td>NEU</td>\n",
              "    </tr>\n",
              "    <tr>\n",
              "      <th>12766</th>\n",
              "      <td>free the regime in harare must stop the unlawf...</td>\n",
              "      <td>NEG</td>\n",
              "    </tr>\n",
              "  </tbody>\n",
              "</table>\n",
              "<p>11862 rows × 2 columns</p>\n",
              "</div>"
            ],
            "text/plain": [
              "                                                    Text finalLabel3Classes\n",
              "0      g oh mammal feel sorry for the kids wod out while                NEG\n",
              "1      my message is a response to your demand that w...                NEU\n",
              "2      you are making fun of people who are single yo...                NEG\n",
              "3                                         g is how to do                NEU\n",
              "4      g am honest and prectical quetical quems perm ...                POS\n",
              "...                                                  ...                ...\n",
              "12761  g adam and eve are original to do something wr...                POS\n",
              "12762  g gt gextly as they ate them paid us when the ...                NEG\n",
              "12763  g ismagine a man weird on shadaa because ah le...                NEG\n",
              "12764              g iskyra and tend to do so in privacy                NEU\n",
              "12766  free the regime in harare must stop the unlawf...                NEG\n",
              "\n",
              "[11862 rows x 2 columns]"
            ]
          },
          "execution_count": 73,
          "metadata": {},
          "output_type": "execute_result"
        }
      ],
      "source": [
        "# # text processing function \n",
        "\n",
        "import re\n",
        "import string\n",
        "def clean_text(text):\n",
        "    # to lower case\n",
        "    text = str(text)\n",
        "    text = text.lower()\n",
        "    # remove links\n",
        "    text = re.sub('https:\\/\\/\\S+', '', text) \n",
        "    # remove punctuation\n",
        "    text = re.sub('[%s]' % re.escape(string.punctuation), '', text) \n",
        "    # remove next line     \n",
        "    text = re.sub(r'[^ \\w\\.]', '', text) \n",
        "    # remove words containing numbers\n",
        "    text = re.sub('\\w*\\d\\w*', '', text)\n",
        "\n",
        "    text = ' '.join( text.split() )\n",
        "    return text# Create a new column called \"Text\" for collecting clean text\n",
        "\n",
        "def clean( text ):\n",
        "  '''clean tweet texts and remove links, usernamas'''\n",
        "  text = text.lower()\n",
        "  text = ' '.join( text.split() )\n",
        "  text = ' '.join( [ re.sub(\"^@\\w+\", \" \", t) for t in text.split(' ') ] ) # remove usernames\n",
        "  # text = ' '.join( [ re.sub(\"^@\\w+\", \" \", t) for t in text.split(' ') ] ) # remove hashtags\n",
        "  text = ' '.join( [ re.sub(\"^http\\w+\", \" \", t) for t in text.split(' ') ] ) # remove links\n",
        "  text = ' '.join( text.split() )\n",
        "  text = ' '.join( [t for t in text.split(' ') if not len(t)==1 and not t=='g' ] ) # remove g\n",
        "  return ' '.join( text.split() )\n",
        "\n",
        "df['Text'] = df[_feature_col].apply(lambda x: clean_text(x))\n",
        "df['Text'] = df['Text'].apply(lambda x: clean_text(x))\n",
        "df[['Text', _target_col]]"
      ]
    },
    {
      "cell_type": "code",
      "execution_count": 74,
      "metadata": {},
      "outputs": [
        {
          "data": {
            "text/plain": [
              "<AxesSubplot: xlabel='finalLabel3Classes', ylabel='count'>"
            ]
          },
          "execution_count": 74,
          "metadata": {},
          "output_type": "execute_result"
        },
        {
          "data": {
            "image/png": "[encoded data removed]",
            "text/plain": [
              "<Figure size 640x480 with 1 Axes>"
            ]
          },
          "metadata": {},
          "output_type": "display_data"
        }
      ],
      "source": [
        "# plot data to see, distributions.\n",
        "import seaborn as sns\n",
        "\n",
        "sns.countplot(data=df, x=_target_col)"
      ]
    },
    {
      "cell_type": "code",
      "execution_count": 78,
      "metadata": {},
      "outputs": [
        {
          "data": {
            "text/plain": [
              "2540"
            ]
          },
          "execution_count": 78,
          "metadata": {},
          "output_type": "execute_result"
        }
      ],
      "source": [
        "classes = df[_target_col].unique()\n",
        "samples = {'neg':[], 'pos':[], 'neu': []}\n",
        "classes\n",
        "\n",
        "# df[['Text', _target_col]].values\n",
        "# df[ _target_col ] == 'NEG'\n",
        "for sample in df[['Text', _target_col]].values:\n",
        "    if sample[1] and sample[1].lower() == 'neu':\n",
        "        samples['neu'].append(sample[0])\n",
        "    elif sample[1] and sample[1].lower() == 'pos':\n",
        "        samples['pos'].append(sample[0])\n",
        "    elif sample[1] and sample[1].lower() == 'neg':\n",
        "        samples['neg'].append(sample[0])\n",
        "        \n",
        "\n",
        "min_sample_class = min( [ len(v) for v in samples.values() ] ) # 2540\n",
        "min_sample_class\n"
      ]
    },
    {
      "cell_type": "code",
      "execution_count": 79,
      "metadata": {},
      "outputs": [
        {
          "data": {
            "text/html": [
              "<div>\n",
              "<style scoped>\n",
              "    .dataframe tbody tr th:only-of-type {\n",
              "        vertical-align: middle;\n",
              "    }\n",
              "\n",
              "    .dataframe tbody tr th {\n",
              "        vertical-align: top;\n",
              "    }\n",
              "\n",
              "    .dataframe thead th {\n",
              "        text-align: right;\n",
              "    }\n",
              "</style>\n",
              "<table border=\"1\" class=\"dataframe\">\n",
              "  <thead>\n",
              "    <tr style=\"text-align: right;\">\n",
              "      <th></th>\n",
              "      <th>Text</th>\n",
              "      <th>target</th>\n",
              "    </tr>\n",
              "  </thead>\n",
              "  <tbody>\n",
              "    <tr>\n",
              "      <th>0</th>\n",
              "      <td>g i wasz online me enlighten me soome more i w...</td>\n",
              "      <td>pos</td>\n",
              "    </tr>\n",
              "    <tr>\n",
              "      <th>1</th>\n",
              "      <td>g hear this the last</td>\n",
              "      <td>neg</td>\n",
              "    </tr>\n",
              "    <tr>\n",
              "      <th>2</th>\n",
              "      <td>g judg on social media as induma uva zimbabweg...</td>\n",
              "      <td>pos</td>\n",
              "    </tr>\n",
              "    <tr>\n",
              "      <th>3</th>\n",
              "      <td>g or king shadaya talking touct voices for tom...</td>\n",
              "      <td>pos</td>\n",
              "    </tr>\n",
              "    <tr>\n",
              "      <th>4</th>\n",
              "      <td>g t in most cases you will and the community o...</td>\n",
              "      <td>neg</td>\n",
              "    </tr>\n",
              "    <tr>\n",
              "      <th>...</th>\n",
              "      <td>...</td>\n",
              "      <td>...</td>\n",
              "    </tr>\n",
              "    <tr>\n",
              "      <th>7615</th>\n",
              "      <td>g what you win do youre going to fight for the...</td>\n",
              "      <td>neg</td>\n",
              "    </tr>\n",
              "    <tr>\n",
              "      <th>7616</th>\n",
              "      <td>g off these children</td>\n",
              "      <td>neu</td>\n",
              "    </tr>\n",
              "    <tr>\n",
              "      <th>7617</th>\n",
              "      <td>no cover up praase bind people please down by ...</td>\n",
              "      <td>neg</td>\n",
              "    </tr>\n",
              "    <tr>\n",
              "      <th>7618</th>\n",
              "      <td>g no mashop closed people came alone uninto yo...</td>\n",
              "      <td>neg</td>\n",
              "    </tr>\n",
              "    <tr>\n",
              "      <th>7619</th>\n",
              "      <td>g affy chosen hadca mdca led bigtory brintoy r...</td>\n",
              "      <td>neu</td>\n",
              "    </tr>\n",
              "  </tbody>\n",
              "</table>\n",
              "<p>7620 rows × 2 columns</p>\n",
              "</div>"
            ],
            "text/plain": [
              "                                                   Text target\n",
              "0     g i wasz online me enlighten me soome more i w...    pos\n",
              "1                                  g hear this the last    neg\n",
              "2     g judg on social media as induma uva zimbabweg...    pos\n",
              "3     g or king shadaya talking touct voices for tom...    pos\n",
              "4     g t in most cases you will and the community o...    neg\n",
              "...                                                 ...    ...\n",
              "7615  g what you win do youre going to fight for the...    neg\n",
              "7616                               g off these children    neu\n",
              "7617  no cover up praase bind people please down by ...    neg\n",
              "7618  g no mashop closed people came alone uninto yo...    neg\n",
              "7619  g affy chosen hadca mdca led bigtory brintoy r...    neu\n",
              "\n",
              "[7620 rows x 2 columns]"
            ]
          },
          "execution_count": 79,
          "metadata": {},
          "output_type": "execute_result"
        }
      ],
      "source": [
        "import pandas as pd\n",
        "from sklearn.utils import shuffle\n",
        "df1 = pd.DataFrame( { 'Text': samples['neu'][: min_sample_class], \"target\": ['neu']*min_sample_class } ) \n",
        "df2 = pd.DataFrame( { 'Text': samples['pos'][: min_sample_class], \"target\": ['pos']*min_sample_class } ) \n",
        "df3 = pd.DataFrame( { 'Text': samples['neg'][: min_sample_class], \"target\": ['neg']*min_sample_class } ) \n",
        "data = pd.concat([df1, df3, df2], ignore_index=True)\n",
        "# data = data.sample(frac=1).reset_index(drop=True)\n",
        "data = shuffle(data)\n",
        "data.reset_index( inplace=True, drop=True)\n",
        "data"
      ]
    },
    {
      "cell_type": "code",
      "execution_count": 80,
      "metadata": {},
      "outputs": [
        {
          "data": {
            "text/plain": [
              "<AxesSubplot: xlabel='target', ylabel='count'>"
            ]
          },
          "execution_count": 80,
          "metadata": {},
          "output_type": "execute_result"
        },
        {
          "data": {
            "image/png": "[encoded data removed]",
            "text/plain": [
              "<Figure size 640x480 with 1 Axes>"
            ]
          },
          "metadata": {},
          "output_type": "display_data"
        }
      ],
      "source": [
        "sns.countplot(data=data, x='target')"
      ]
    },
    {
      "cell_type": "code",
      "execution_count": 68,
      "metadata": {},
      "outputs": [],
      "source": [
        "# write dataframe to file.\n",
        "filename = f\"./data/clean_text_cl3.csv\"\n",
        "data.to_csv(filename, index=False )"
      ]
    },
    {
      "cell_type": "code",
      "execution_count": null,
      "metadata": {},
      "outputs": [],
      "source": []
    },
    {
      "cell_type": "code",
      "execution_count": null,
      "metadata": {},
      "outputs": [],
      "source": []
    },
    {
      "cell_type": "code",
      "execution_count": null,
      "metadata": {},
      "outputs": [],
      "source": []
    }
  ],
  "metadata": {
    "colab": {
      "provenance": []
    },
    "kernelspec": {
      "display_name": "envs",
      "language": "python",
      "name": "python3"
    },
    "language_info": {
      "codemirror_mode": {
        "name": "ipython",
        "version": 3
      },
      "file_extension": ".py",
      "mimetype": "text/x-python",
      "name": "python",
      "nbconvert_exporter": "python",
      "pygments_lexer": "ipython3",
      "version": "3.10.7"
    },
    "vscode": {
      "interpreter": {
        "hash": "6b16d1a6559efeda66307266d482d01ef10bc024de7015cc43e9f26f0fe94454"
      }
    }
  },
  "nbformat": 4,
  "nbformat_minor": 0
}
