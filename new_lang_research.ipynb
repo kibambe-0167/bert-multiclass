{
  "cells": [
    {
      "cell_type": "code",
      "execution_count": null,
      "metadata": {
        "colab": {
          "base_uri": "https://localhost:8080/"
        },
        "id": "_dHRQyBuOquy",
        "outputId": "3a63f8bd-b956-4041-ef65-269284a90c9d"
      },
      "outputs": [],
      "source": [
        "# import data\n",
        "\n",
        "# \n",
        "# from google.colab import drive\n",
        "# drive.mount(\"/content/drive\")"
      ]
    },
    {
      "cell_type": "code",
      "execution_count": null,
      "metadata": {
        "id": "MOwVisHpNDmF"
      },
      "outputs": [],
      "source": [
        "# pip install cleantext\n",
        "# !pip install pandas"
      ]
    },
    {
      "cell_type": "code",
      "execution_count": null,
      "metadata": {
        "colab": {
          "base_uri": "https://localhost:8080/",
          "height": 513
        },
        "id": "lEFLNKMIO9s7",
        "outputId": "1116d5c4-3130-4330-a2ad-459395fa85d6"
      },
      "outputs": [],
      "source": [
        "# from cleantext import clean # helps to remove imoji in text\n",
        "import pandas as pd\n",
        "import re\n",
        "\n",
        "# \n",
        "def clean( text ):\n",
        "  '''clean tweet texts and remove links, usernamas'''\n",
        "  text = text.lower()\n",
        "  text = ' '.join( text.split() )\n",
        "  text = ' '.join( [ re.sub(\"^@\\w+\", \" \", t) for t in text.split(' ') ] ) # remove usernames\n",
        "  # text = ' '.join( [ re.sub(\"^@\\w+\", \" \", t) for t in text.split(' ') ] ) # remove hashtags\n",
        "  text = ' '.join( [ re.sub(\"^http\\w+\", \" \", t) for t in text.split(' ') ] ) # remove links\n",
        "  # text = clean(text, no_emoji=True)\n",
        "  return ' '.join( text.split() )\n",
        "\n",
        "\n",
        "# make classes\n",
        "def make_label( class_ ):\n",
        "  '''\n",
        "  neu   - 0\n",
        "  pos   - 1\n",
        "  neg   - 2\n",
        "  vpos  - 3\n",
        "  vneg  - 4\n",
        "  '''\n",
        "  class_ = class_.lower()\n",
        "  if class_ == 'vneg': return 4\n",
        "  elif class_ == 'neu': return 0\n",
        "\n",
        "  elif class_ == 'neg': return 2\n",
        "  elif class_ == 'vpos': return 3\n",
        "  elif class_ == 'pos': return 1\n",
        "\n",
        "# feature processing\n",
        "df = pd.read_csv(\"./traindata1.1.csv\",engine=\"python\")\n",
        "df.drop(axis=1, inplace=True, columns=['UserID','Date/Time'] )\n",
        "df.drop_duplicates(inplace=True)\n",
        "# print( df.columns )\n",
        "df['shona_cleaned'] = df['SN(Original Shona Tweet)'].apply( clean ) # clean shona tweets.\n",
        "df['Label5'] = df['finalLabel5Classes'].apply( make_label )\n",
        "df = df[ :1000]\n",
        "df"
      ]
    },
    {
      "cell_type": "code",
      "execution_count": null,
      "metadata": {
        "id": "U2UzN-KGMH1d"
      },
      "outputs": [],
      "source": [
        "# imports\n",
        "import numpy as np \n",
        "import tensorflow as tf\n",
        "from sklearn.model_selection import train_test_split\n",
        "from sklearn.metrics import classification_report, confusion_matrix\n",
        "\n",
        "# load and evaluate a saved model\n",
        "from keras.models import load_model"
      ]
    },
    {
      "cell_type": "code",
      "execution_count": null,
      "metadata": {
        "colab": {
          "base_uri": "https://localhost:8080/",
          "height": 206
        },
        "id": "cu-KMqwHNeCa",
        "outputId": "db40b1b6-35d2-4343-a0aa-2f33f870fd6e"
      },
      "outputs": [],
      "source": [
        "# preprocessing\n",
        "data = pd.DataFrame()\n",
        "data['Shona'] = df['shona_cleaned']\n",
        "# data['Label'] = LabelEncoder().fit_transform(df['finalLabel5Classes'])\n",
        "data['Label'] = df['Label5']\n",
        "\n",
        "# \n",
        "# X_train, X_test, y_train, y_test = train_test_split(data['Shona'].values, data['Label'].values, test_size=.2, random_state=42 )\n",
        "train, test = train_test_split(data, test_size=.2, random_state=42 )\n",
        "train.head()"
      ]
    },
    {
      "cell_type": "code",
      "execution_count": null,
      "metadata": {
        "id": "mHUN__KIS-Ig"
      },
      "outputs": [],
      "source": [
        "# !pip install transformers"
      ]
    },
    {
      "cell_type": "code",
      "execution_count": null,
      "metadata": {
        "id": "WykjqrPXby5l"
      },
      "outputs": [],
      "source": [
        "# load bert pre-trained and sequence classifier.\n",
        "# will build model with sequence classifier and tokenizer with bert-tokenizer.\n",
        "from transformers import BertTokenizer, TFBertForSequenceClassification, InputExample, InputFeatures, TFBertForMultipleChoice\n",
        "num_labels = 5\n",
        "tokenizer = BertTokenizer.from_pretrained(\"bert-base-uncased\")\n",
        "model = TFBertForSequenceClassification.from_pretrained(\"bert-base-uncased\", num_labels=num_labels, problem_type=\"multi_label_classification\")"
      ]
    },
    {
      "cell_type": "code",
      "execution_count": null,
      "metadata": {
        "colab": {
          "base_uri": "https://localhost:8080/"
        },
        "id": "kTp8bXvGdazv",
        "outputId": "2a186c52-8f1e-4200-ffb9-a246ab884a86"
      },
      "outputs": [],
      "source": [
        "# check summary of bert model\n",
        "model.summary()"
      ]
    },
    {
      "cell_type": "code",
      "execution_count": null,
      "metadata": {
        "colab": {
          "base_uri": "https://localhost:8080/",
          "height": 206
        },
        "id": "Pp5Zn6c7fEd_",
        "outputId": "c65f02a3-5d2f-4904-a2ee-4bc2194629f1"
      },
      "outputs": [],
      "source": [
        "test.head()"
      ]
    },
    {
      "cell_type": "code",
      "execution_count": null,
      "metadata": {
        "id": "ELTVWdUN201Z"
      },
      "outputs": [],
      "source": [
        "# create input sequence.\n",
        "# \n",
        "# InputExample(guid=None, text_a='hello world', text_b=None, label=1)\n",
        "\n",
        "def convert_data_to_examples(train, test, DATA_COLUMN, LABEL_COLUMN): \n",
        "  train_InputExamples = train.apply(lambda x: InputExample(guid=None, # Globally unique ID for bookkeeping, unused in this case\n",
        "                                                          text_a = x[DATA_COLUMN], \n",
        "                                                          text_b = None,\n",
        "                                                          label = x[LABEL_COLUMN]), axis = 1)\n",
        "  \n",
        "  validation_InputExamples = test.apply(lambda x: InputExample(guid=None, # Globally unique ID for bookkeeping, unused in this case\n",
        "                                                          text_a = x[DATA_COLUMN], \n",
        "                                                          text_b = None,\n",
        "                                                          label = x[LABEL_COLUMN]), axis = 1)\n",
        "  return train_InputExamples, validation_InputExamples\n",
        "\n",
        "# train_InputExamples, validation_InputExamples = convert_data_to_examples(train, test, 'Shona', 'Label')\n",
        "\n",
        "\n",
        "def convert_examples_to_tf_dataset(examples, tokenizer, max_length=128):\n",
        "    features = [] # -> will hold InputFeatures to be converted later\n",
        "\n",
        "    for e in examples:\n",
        "        # Documentation is really strong for this method, so please take a look at it\n",
        "        input_dict = tokenizer.encode_plus(\n",
        "            e.text_a,\n",
        "            add_special_tokens=True,\n",
        "            max_length=max_length, # truncates if len(s) > max_length\n",
        "            return_token_type_ids=True,\n",
        "            return_attention_mask=True,\n",
        "            pad_to_max_length=True, # pads to the right by default # CHECK THIS for pad_to_max_length\n",
        "            truncation=True\n",
        "        )\n",
        "\n",
        "        input_ids, token_type_ids, attention_mask = (input_dict[\"input_ids\"],\n",
        "            input_dict[\"token_type_ids\"], input_dict['attention_mask'])\n",
        "\n",
        "        features.append(\n",
        "            InputFeatures(\n",
        "                input_ids=input_ids, attention_mask=attention_mask, token_type_ids=token_type_ids, label=e.label\n",
        "            )\n",
        "        )\n",
        "\n",
        "    def gen():\n",
        "        for f in features:\n",
        "            yield (\n",
        "                {\n",
        "                    \"input_ids\": f.input_ids,\n",
        "                    \"attention_mask\": f.attention_mask,\n",
        "                    \"token_type_ids\": f.token_type_ids,\n",
        "                },\n",
        "                f.label,\n",
        "            )\n",
        "\n",
        "    return tf.data.Dataset.from_generator(\n",
        "        gen,\n",
        "        ({\"input_ids\": tf.int32, \"attention_mask\": tf.int32, \"token_type_ids\": tf.int32}, tf.int64),\n",
        "        (\n",
        "            {\n",
        "                \"input_ids\": tf.TensorShape([None]),\n",
        "                \"attention_mask\": tf.TensorShape([None]),\n",
        "                \"token_type_ids\": tf.TensorShape([None]),\n",
        "            },\n",
        "            tf.TensorShape([]),\n",
        "        ),\n",
        "    )\n",
        "\n",
        "\n"
      ]
    },
    {
      "cell_type": "code",
      "execution_count": null,
      "metadata": {
        "colab": {
          "base_uri": "https://localhost:8080/"
        },
        "id": "tIwWpI4A51KI",
        "outputId": "e40fcdcb-8991-4f03-c706-81cf13676902"
      },
      "outputs": [],
      "source": [
        "# run convert examples to dataset function.\n",
        "DATA_COLUMN = 'Shona'\n",
        "LABEL_COLUMN = 'Label'\n",
        "train_InputExamples, validation_InputExamples = convert_data_to_examples(train, test, DATA_COLUMN, LABEL_COLUMN)\n",
        "\n",
        "train_data = convert_examples_to_tf_dataset(list(train_InputExamples), tokenizer)\n",
        "train_data = train_data.shuffle(100).batch(32).repeat(2)\n",
        "\n",
        "validation_data = convert_examples_to_tf_dataset(list(validation_InputExamples), tokenizer)\n",
        "validation_data = validation_data.batch(32)\n",
        "\n",
        "train_data"
      ]
    },
    {
      "cell_type": "code",
      "execution_count": null,
      "metadata": {
        "colab": {
          "base_uri": "https://localhost:8080/"
        },
        "id": "_22BHRhT7fKW",
        "outputId": "0b0ee926-2281-4eaa-f7ca-09fc0a2b4f55"
      },
      "outputs": [],
      "source": [
        "# Adam for optimization. categorical crossentropy as the loss function.\n",
        "# sparse categorical accuracy as our accuracy metric.\n",
        "# sparse_categorical_crossentropy/SparseSoftmaxCrossEntropyWithLogits/SparseSoftmaxCrossEntropyWithLogits\n",
        "epochs = 50\n",
        "batch = 32\n",
        "model.compile(optimizer=tf.keras.optimizers.Adam(learning_rate=3e-5, epsilon=1e-08, clipnorm=1.0), \n",
        "              loss=tf.keras.losses.SparseCategoricalCrossentropy(from_logits=False),\n",
        "              \n",
        "              metrics=[tf.keras.metrics.SparseCategoricalAccuracy('accuracy')]\n",
        "              )\n",
        "\n",
        "model.fit(train_data, epochs=epochs, batch_size=batch, validation_data=validation_data)"
      ]
    },
    {
      "cell_type": "code",
      "execution_count": null,
      "metadata": {},
      "outputs": [],
      "source": [
        "# \n",
        "\n",
        "pred_sentences = ['sentence 1', 'sentence 2']\n",
        "tf_batch = tokenizer(pred_sentences, max_length=128, padding=True, truncation=True, return_tensors='tf')\n",
        "tf_outputs = model(tf_batch)\n",
        "tf_predictions = tf.nn.softmax(tf_outputs[0], axis=-1)\n",
        "labels = ['Negative','Positive']\n",
        "label = tf.argmax(tf_predictions, axis=1)\n",
        "label = label.numpy()\n",
        "for i in range(len(pred_sentences)):\n",
        "  print(pred_sentences[i], \": \\n\", labels[label[i]])"
      ]
    }
  ],
  "metadata": {
    "colab": {
      "provenance": []
    },
    "kernelspec": {
      "display_name": "envs",
      "language": "python",
      "name": "python3"
    },
    "language_info": {
      "codemirror_mode": {
        "name": "ipython",
        "version": 3
      },
      "file_extension": ".py",
      "mimetype": "text/x-python",
      "name": "python",
      "nbconvert_exporter": "python",
      "pygments_lexer": "ipython3",
      "version": "3.10.7"
    },
    "vscode": {
      "interpreter": {
        "hash": "6b16d1a6559efeda66307266d482d01ef10bc024de7015cc43e9f26f0fe94454"
      }
    }
  },
  "nbformat": 4,
  "nbformat_minor": 0
}
